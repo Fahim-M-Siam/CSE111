{
  "nbformat": 4,
  "nbformat_minor": 0,
  "metadata": {
    "colab": {
      "name": "LAB5.ipynb",
      "provenance": [],
      "collapsed_sections": []
    },
    "kernelspec": {
      "name": "python3",
      "display_name": "Python 3"
    },
    "language_info": {
      "name": "python"
    }
  },
  "cells": [
    {
      "cell_type": "code",
      "execution_count": null,
      "metadata": {
        "colab": {
          "base_uri": "https://localhost:8080/"
        },
        "id": "obuB3tF_0SKO",
        "outputId": "76b02e88-443e-40ce-c6b9-1cb697f7e1ef"
      },
      "outputs": [
        {
          "output_type": "stream",
          "name": "stdout",
          "text": [
            "Quiz 1 (out of 10): 10\n",
            "Quiz 2 (out of 10): 10\n",
            "Lab (out of 30): 30\n",
            "Mid (out of 20): 20\n",
            "Final (out of 30): 30\n",
            "Total marks: 100\n"
          ]
        }
      ],
      "source": [
        "#Task 1\n",
        "class Marks:\n",
        "  def __init__(self,n):\n",
        "    self.mark = n\n",
        "  def __add__(self,other):\n",
        "    return Marks(self.mark + other.mark)\n",
        "\n",
        "\n",
        "Q1 = Marks(int(input(\"Quiz 1 (out of 10): \")))\n",
        "Q2 = Marks(int(input(\"Quiz 2 (out of 10): \")))\n",
        "Lab = Marks(int(input(\"Lab (out of 30): \")))\n",
        "Mid = Marks(int(input(\"Mid (out of 20): \")))\n",
        "Final = Marks(int(input(\"Final (out of 30): \")))\n",
        "total = Q1 + Q2 + Lab + Mid + Final\n",
        "print(\"Total marks: {}\".format(total.mark))"
      ]
    },
    {
      "cell_type": "code",
      "source": [
        "#Task 2\n",
        "class Teacher:\n",
        "  def __init__(self,n,d):\n",
        "    self.__name = n\n",
        "    self.__dept = d\n",
        "    self.__clist = []\n",
        "  def addCourse(self,other):\n",
        "    self.__clist.append(other.course)\n",
        "  def printDetail(self):\n",
        "    print(\"====================================\")\n",
        "    print(f\"Name: {self.__name}\\nDepartment: {self.__dept}\")\n",
        "    print(\"List of courses\")\n",
        "    print(\"====================================\")\n",
        "    for i in self.__clist:\n",
        "      print(i)\n",
        "    print(\"====================================\")\n",
        "\n",
        "class Course:\n",
        "  def __init__(self, c):\n",
        "    self.course = c\n",
        "\n",
        "\n",
        "t1 = Teacher(\"Saad Abdullah\", \"CSE\")\n",
        "t2 = Teacher(\"Mumit Khan\", \"CSE\")\n",
        "t3 = Teacher(\"Sadia Kazi\", \"CSE\")\n",
        "c1 = Course(\"CSE 110 Programming Language I\")\n",
        "c2 = Course(\"CSE 111 Programming Language-II\")\n",
        "c3 = Course(\"CSE 220 Data Structures\")\n",
        "c4 = Course(\"CSE 221 Algorithms\")\n",
        "c5 = Course(\"CCSE 230 Discrete Mathematics\")\n",
        "c6 = Course(\"CSE 310 Object Oriented Programming\")\n",
        "c7 = Course(\"CSE 320 Data Communications\")\n",
        "c8 = Course(\"CSE 340 Computer Architecture\")\n",
        "t1.addCourse(c1)\n",
        "t1.addCourse(c2)\n",
        "t2.addCourse(c3)\n",
        "t2.addCourse(c4)\n",
        "t2.addCourse(c5)\n",
        "t3.addCourse(c6)\n",
        "t3.addCourse(c7)\n",
        "t3.addCourse(c8)\n",
        "t1.printDetail()\n",
        "t2.printDetail()\n",
        "t3.printDetail()"
      ],
      "metadata": {
        "colab": {
          "base_uri": "https://localhost:8080/"
        },
        "id": "2f7b3f8DC7sM",
        "outputId": "dba4cfee-e4da-4c87-aa58-bb7f5b22395e"
      },
      "execution_count": null,
      "outputs": [
        {
          "output_type": "stream",
          "name": "stdout",
          "text": [
            "====================================\n",
            "Name: Saad Abdullah\n",
            "Department: CSE\n",
            "List of courses\n",
            "====================================\n",
            "CSE 110 Programming Language I\n",
            "CSE 111 Programming Language-II\n",
            "====================================\n",
            "====================================\n",
            "Name: Mumit Khan\n",
            "Department: CSE\n",
            "List of courses\n",
            "====================================\n",
            "CSE 220 Data Structures\n",
            "CSE 221 Algorithms\n",
            "CCSE 230 Discrete Mathematics\n",
            "====================================\n",
            "====================================\n",
            "Name: Sadia Kazi\n",
            "Department: CSE\n",
            "List of courses\n",
            "====================================\n",
            "CSE 310 Object Oriented Programming\n",
            "CSE 320 Data Communications\n",
            "CSE 340 Computer Architecture\n",
            "====================================\n"
          ]
        }
      ]
    },
    {
      "cell_type": "code",
      "source": [
        "#Task 3\n",
        "class Team:\n",
        "  def __init__(self,n=None):\n",
        "    self.__name = n\n",
        "    self.__pn = []\n",
        "  def setName(self,tn):\n",
        "    self.__name = tn\n",
        "  def addPlayer(self,pn):\n",
        "    self.__pn.append(pn.pname)\n",
        "  def printDetail(self):\n",
        "    print(\"=====================\")\n",
        "    print(f\"Team: {self.__name}\\nList of Players:\")\n",
        "    print(self.__pn)\n",
        "    print(\"=====================\")\n",
        "\n",
        "class Player:\n",
        "  def __init__(self,pn):\n",
        "    self.pname = pn\n",
        "\n",
        "b = Team()\n",
        "b.setName('Bangladesh')\n",
        "mashrafi = Player(\"Mashrafi\")\n",
        "b.addPlayer(mashrafi)\n",
        "tamim = Player(\"Tamim\")\n",
        "b.addPlayer(tamim)\n",
        "b.printDetail()\n",
        "a = Team(\"Australia\")\n",
        "ponting = Player(\"Ponting\")\n",
        "a.addPlayer(ponting)\n",
        "lee = Player(\"Lee\")\n",
        "a.addPlayer(lee)\n",
        "a.printDetail()"
      ],
      "metadata": {
        "colab": {
          "base_uri": "https://localhost:8080/"
        },
        "id": "hoOmls_GHctA",
        "outputId": "24fece2d-21bd-4ff4-d416-05e19f9ff63e"
      },
      "execution_count": null,
      "outputs": [
        {
          "output_type": "stream",
          "name": "stdout",
          "text": [
            "=====================\n",
            "Team: Bangladesh\n",
            "List of Players:\n",
            "['Mashrafi', 'Tamim']\n",
            "=====================\n",
            "=====================\n",
            "Team: Australia\n",
            "List of Players:\n",
            "['Ponting', 'Lee']\n",
            "=====================\n"
          ]
        }
      ]
    },
    {
      "cell_type": "code",
      "source": [
        "#Task 4\n",
        "class Color:\n",
        "  def __init__(self,c):\n",
        "    self.clr = c\n",
        "  def __add__(self, other):\n",
        "    if self.clr == 'red' and other.clr == 'yellow' or self.clr == 'yellow' and other.clr == 'red':\n",
        "      return Color(\"Orange\")\n",
        "    elif self.clr == 'red' and other.clr == 'blue' or self.clr == 'blue' and other.clr == 'red':\n",
        "      return Color(\"violet\")\n",
        "    elif self.clr == 'yellow' and other.clr == 'blue' or self.clr == 'blue' and other.clr == 'yellow':\n",
        "      return Color(\"Green\")\n",
        "\n",
        "\n",
        "C1 = Color(input(\"First Color: \").lower())\n",
        "C2 = Color(input(\"Second Color: \").lower())\n",
        "C3 = C1 + C2\n",
        "print(\"Color formed:\", C3.clr)"
      ],
      "metadata": {
        "colab": {
          "base_uri": "https://localhost:8080/"
        },
        "id": "ootv63uK3Gx_",
        "outputId": "2929da5a-57ea-4a43-f776-333949ff7b31"
      },
      "execution_count": null,
      "outputs": [
        {
          "output_type": "stream",
          "name": "stdout",
          "text": [
            "First Color: red\n",
            "Second Color: yellow\n",
            "Color formed: Orange\n"
          ]
        }
      ]
    },
    {
      "cell_type": "code",
      "source": [
        "#Task 5\n",
        "class Circle:\n",
        "  def __init__(self,r):\n",
        "    self.__radius = r\n",
        "  def getRadius(self):\n",
        "    return(self.__radius)\n",
        "  def setRadius(self):\n",
        "    self.__radius = self.__radius\n",
        "  def area(self):\n",
        "    area =(3.1416*(self.__radius)**2)\n",
        "    return(area)\n",
        "  def __add__(self,other):\n",
        "    self.__radius = Circle(self.__radius + other.__radius)\n",
        "    return(self.__radius)\n",
        "\n",
        "c1 = Circle(4)\n",
        "print(\"First circle radius:\" , c1.getRadius())\n",
        "print(\"First circle area:\" ,c1.area())\n",
        "c2 = Circle(5)\n",
        "print(\"Second circle radius:\" ,c2.getRadius())\n",
        "print(\"Second circle area:\" ,c2.area())\n",
        "c3 = c1 + c2\n",
        "print(\"Third circle radius:\" ,c3.getRadius())\n",
        "print(\"Third circle area:\" ,c3.area())"
      ],
      "metadata": {
        "colab": {
          "base_uri": "https://localhost:8080/"
        },
        "id": "RX_m3oteqnzo",
        "outputId": "847740b3-1102-4164-e85e-8d7533a4bb1d"
      },
      "execution_count": null,
      "outputs": [
        {
          "output_type": "stream",
          "name": "stdout",
          "text": [
            "First circle radius: 4\n",
            "First circle area: 50.2656\n",
            "Second circle radius: 5\n",
            "Second circle area: 78.53999999999999\n",
            "Third circle radius: 9\n",
            "Third circle area: 254.46959999999999\n"
          ]
        }
      ]
    },
    {
      "cell_type": "code",
      "source": [
        "#Task 6\n",
        "class Triangle:\n",
        "  def __init__(self,b,h):\n",
        "    self.__base = b\n",
        "    self.__height = h\n",
        "  def getBase(self):\n",
        "    return(self.__base)\n",
        "  def getHeight(self):\n",
        "    return(self.__height)\n",
        "  def setBase(self):\n",
        "    self.__base = self.__base\n",
        "  def setHeight(self):\n",
        "    self.__height = self.__height\n",
        "  def area(self):\n",
        "    area = (self.__base*self.__height)/2\n",
        "    return(area)\n",
        "  def __sub__(self,other):\n",
        "    return Triangle(self.__base - other.__base, self.__height - other.__height)\n",
        "    \n",
        "t1 = Triangle(10, 5)\n",
        "print(\"First Triangle Base:\" , t1.getBase())\n",
        "print(\"First Triangle Height:\" , t1.getHeight())\n",
        "print(\"First Triangle area:\" ,t1.area())\n",
        "t2 = Triangle(5, 3)\n",
        "print(\"Second Triangle Base:\" , t2.getBase())\n",
        "print(\"Second Triangle Height:\" , t2.getHeight())\n",
        "print(\"Second Triangle area:\" ,t2.area())\n",
        "t3 = t1 - t2\n",
        "print(\"Third Triangle Base:\" , t3.getBase())\n",
        "print(\"Third Triangle Height:\" , t3.getHeight())\n",
        "print(\"Third Triangle area:\" ,t3.area())"
      ],
      "metadata": {
        "colab": {
          "base_uri": "https://localhost:8080/"
        },
        "id": "Cd4KnGz70Eir",
        "outputId": "b834d809-02ae-42b5-9e0b-a0723310ab01"
      },
      "execution_count": null,
      "outputs": [
        {
          "output_type": "stream",
          "name": "stdout",
          "text": [
            "First Triangle Base: 10\n",
            "First Triangle Height: 5\n",
            "First Triangle area: 25.0\n",
            "Second Triangle Base: 5\n",
            "Second Triangle Height: 3\n",
            "Second Triangle area: 7.5\n",
            "Third Triangle Base: 5\n",
            "Third Triangle Height: 2\n",
            "Third Triangle area: 5.0\n"
          ]
        }
      ]
    },
    {
      "cell_type": "code",
      "source": [
        "#Task 7\n",
        "class Dolls:\n",
        "  def __init__(self,n,p):\n",
        "    self.name = n\n",
        "    self.price = p\n",
        "    self.flag = False\n",
        "  def detail(self):\n",
        "    if self.flag == True:\n",
        "      return(f\"Dolls: {self.name}\\nTotal Price: {self.price}\")\n",
        "    else:\n",
        "      return(f\"Doll: {self.name}\\nTotal Price: {self.price}\")\n",
        "  def __gt__(self,other):\n",
        "    if self.price > other.price:\n",
        "      return True\n",
        "    else:\n",
        "      return False\n",
        "  def __add__(self,other):\n",
        "    obj = Dolls(self.name + \" \"+other.name, self.price + other.price)\n",
        "    obj.flag = True\n",
        "    return (obj)\n",
        "    \n",
        "\n",
        "\n",
        "obj_1 = Dolls(\"Tweety\", 2500)\n",
        "print(obj_1.detail())\n",
        "if obj_1 > obj_1:\n",
        "  print(\"Congratulations! You get the Tweety as a gift!\")\n",
        "else:\n",
        "  print(\"Thank you!\")\n",
        "print(\"=========================\")\n",
        "obj_2 = Dolls(\"Daffy Duck\", 1800)\n",
        "print(obj_2.detail())\n",
        "if obj_2 > obj_1:\n",
        "  print(\"Congratulations! You get the Tweety as a gift!\")\n",
        "else:\n",
        "  print(\"Thank you!\")\n",
        "print(\"=========================\")\n",
        "obj_3 = Dolls(\"Bugs Bunny\", 3000)\n",
        "print(obj_3.detail())\n",
        "if obj_3 > obj_1:\n",
        "  print(\"Congratulations! You get the Tweety as a gift!\")\n",
        "else:\n",
        "  print(\"Thank you!\")\n",
        "print(\"=========================\")\n",
        "obj_4 = Dolls(\"Porky Pig\", 1500)\n",
        "print(obj_4.detail())\n",
        "if obj_4 > obj_1:\n",
        "  print(\"Congratulations! You get the Tweety as a gift!\")\n",
        "else:\n",
        "  print(\"Thank you!\")\n",
        "print(\"=========================\")\n",
        "obj_5 = obj_2 + obj_3\n",
        "print(obj_5.detail())\n",
        "if obj_5 > obj_1:\n",
        "  print(\"Congratulations! You get the Tweety as a gift!\")\n",
        "else:\n",
        "  print(\"Thank you!\")"
      ],
      "metadata": {
        "colab": {
          "base_uri": "https://localhost:8080/"
        },
        "id": "tnsJNlQk7GXc",
        "outputId": "206a0d5e-6214-49d8-eab1-a9c391c97f1e"
      },
      "execution_count": null,
      "outputs": [
        {
          "output_type": "stream",
          "name": "stdout",
          "text": [
            "Dolls: Tweety\n",
            "Total Price: 2500\n",
            "Thank you!\n",
            "=========================\n",
            "Dolls: Daffy Duck\n",
            "Total Price: 1800\n",
            "Thank you!\n",
            "=========================\n",
            "Dolls: Bugs Bunny\n",
            "Total Price: 3000\n",
            "Congratulations! You get the Tweety as a gift!\n",
            "=========================\n",
            "Dolls: Porky Pig\n",
            "Total Price: 1500\n",
            "Thank you!\n",
            "=========================\n",
            "Dolls: Daffy Duck Bugs Bunny\n",
            "Total Price: 4800\n",
            "Congratulations! You get the Tweety as a gift!\n"
          ]
        }
      ]
    },
    {
      "cell_type": "code",
      "source": [
        "#Task 8\n",
        "class Coordinates:\n",
        "  def __init__(self,v1,v2):\n",
        "    self.value1 = v1\n",
        "    self.value2 = v2\n",
        "    self.n = (v1,v2)\n",
        "  def __sub__(self,other):\n",
        "    self.n = self.value1 - other.value1, self.value2 - other.value2\n",
        "    subtraction = Coordinates(self.value1 - other.value1, self.value2 - other.value2) \n",
        "    return(subtraction)\n",
        "  def __mul__(self,other):\n",
        "    self.n = self.value1 * other.value1, self.value2 * other.value2\n",
        "    multiplication = Coordinates(self.value1 * other.value1, self.value2 * other.value2) \n",
        "    return(multiplication)\n",
        "  def __eq__(self,other):\n",
        "    if self.n == other.n:\n",
        "      return(\"The calculated coordinates are the same.\")\n",
        "    else:\n",
        "      return(\"The calculated coordinates are NOT the same.\")\n",
        "  def detail(self):\n",
        "    return(self.value1,self.value2)\n",
        "\n",
        "\n",
        "p1 = Coordinates(int(input()),int(input()))\n",
        "p2 = Coordinates(int(input()),int(input()))\n",
        "p4 = p1 - p2\n",
        "print(p4.detail())\n",
        "p5 = p1 * p2\n",
        "print(p5.detail())\n",
        "point_check = (p4 == p5)\n",
        "print(point_check)"
      ],
      "metadata": {
        "id": "orpoftZU5kij",
        "colab": {
          "base_uri": "https://localhost:8080/"
        },
        "outputId": "b17c52df-a931-4926-85e7-17f4b35f8dbc"
      },
      "execution_count": null,
      "outputs": [
        {
          "output_type": "stream",
          "name": "stdout",
          "text": [
            "1\n",
            "2\n",
            "3\n",
            "4\n",
            "(-2, -2)\n",
            "(3, 8)\n",
            "The calculated coordinates are NOT the same.\n"
          ]
        }
      ]
    }
  ]
}