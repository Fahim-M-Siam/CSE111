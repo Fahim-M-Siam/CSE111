{
  "nbformat": 4,
  "nbformat_minor": 0,
  "metadata": {
    "colab": {
      "name": "lab3.ipynb",
      "provenance": [],
      "collapsed_sections": []
    },
    "kernelspec": {
      "name": "python3",
      "display_name": "Python 3"
    },
    "language_info": {
      "name": "python"
    }
  },
  "cells": [
    {
      "cell_type": "code",
      "execution_count": null,
      "metadata": {
        "colab": {
          "base_uri": "https://localhost:8080/"
        },
        "id": "grC8xNV3mr7o",
        "outputId": "615f1e92-1c63-4136-c937-05332445efde"
      },
      "outputs": [
        {
          "output_type": "stream",
          "name": "stdout",
          "text": [
            "Let's Calculate!\n",
            "Value 1: 1\n",
            "Operator: +\n",
            "value 2: 3\n",
            "4\n"
          ]
        }
      ],
      "source": [
        "#Task 1\n",
        "class Calculator:\n",
        "  def __init__(self):\n",
        "    print(\"Let's Calculate!\")\n",
        "  def add(self,v1,v2):\n",
        "    print(v1+v2)\n",
        "  def subtract(self,v1,v2):\n",
        "    print(v1-v2)\n",
        "  def multiply(self,v1,v2):\n",
        "    print(v1*v2)\n",
        "  def divide(self,v1,v2):\n",
        "    print(v1//v2)\n",
        "obj = Calculator()\n",
        "v1 = int(input(\"Value 1: \"))\n",
        "op = input(\"Operator: \")\n",
        "v2 = int(input(\"value 2: \"))\n",
        "if op == \"+\":\n",
        "  obj.add(v1,v2)\n",
        "elif op == \"-\":\n",
        "  obj.subtract(v1,v2)\n",
        "elif op == \"*\":\n",
        "  obj.multiply(v1,v2)\n",
        "elif op == \"//\":\n",
        "  obj.divide(v1,v2)"
      ]
    },
    {
      "cell_type": "code",
      "source": [
        "#Task 2\n",
        "class Course:\n",
        "  def __init__(self,c,i,s):\n",
        "    self.code = c\n",
        "    self.initials = i\n",
        "    self.section = s\n",
        "  def detail(self):\n",
        "    print(self.code,\"-\",self.initials,\"-\",self.section)\n",
        "c1 = Course(\"CSE110\",\"TBA\", 8)\n",
        "c1.detail()\n",
        "print(\"=================\")\n",
        "c2 = Course(\"CSE111\", \"TBA\", 9)\n",
        "c2.detail()"
      ],
      "metadata": {
        "colab": {
          "base_uri": "https://localhost:8080/"
        },
        "id": "6Wzkt3s5qUBN",
        "outputId": "707cb47b-5c00-42ec-97d8-52f732d088c9"
      },
      "execution_count": null,
      "outputs": [
        {
          "output_type": "stream",
          "name": "stdout",
          "text": [
            "CSE110 - TBA - 8\n",
            "=================\n",
            "CSE111 - TBA - 9\n"
          ]
        }
      ]
    },
    {
      "cell_type": "code",
      "source": [
        "#Task 3\n",
        "class Patient:\n",
        "  def __init__(self,n,a,w,h):\n",
        "    self.name = n\n",
        "    self.age = a\n",
        "    self.weight = w\n",
        "    self.height = h\n",
        "    self.BMI = (self.weight/(self.height/100)**2)\n",
        "\n",
        "  def printDetails(self):\n",
        "    print(\"Name:\",self.name)\n",
        "    print(\"Age:\",self.age)\n",
        "    print(\"Weight:\",self.weight,\"kg\")\n",
        "    print(\"Height:\",self.height,\"cm\")\n",
        "    print(\"BMI:\", self.BMI)\n",
        "p1 = Patient(\"A\", 55, 63.0, 158.0)\n",
        "p1.printDetails()\n",
        "print(\"====================\")\n",
        "p2 = Patient(\"B\", 53, 61.0, 149.0)\n",
        "p2.printDetails()"
      ],
      "metadata": {
        "colab": {
          "base_uri": "https://localhost:8080/"
        },
        "id": "O_-diamq4MRj",
        "outputId": "f79d577b-1295-4438-d296-d0389e9bf697"
      },
      "execution_count": null,
      "outputs": [
        {
          "output_type": "stream",
          "name": "stdout",
          "text": [
            "Name: A\n",
            "Age: 55\n",
            "Weight: 63.0 kg\n",
            "Height: 158.0 cm\n",
            "BMI: 25.236340330075304\n",
            "====================\n",
            "Name: B\n",
            "Age: 53\n",
            "Weight: 61.0 kg\n",
            "Height: 149.0 cm\n",
            "BMI: 27.476239809017613\n"
          ]
        }
      ]
    },
    {
      "cell_type": "code",
      "source": [
        "#Task 4\n",
        "class Vehicle:\n",
        "  def __init__(self):\n",
        "    self.x=0\n",
        "    self.y=0\n",
        "  def moveUp(self):\n",
        "    self.y += 1\n",
        "  def moveDown(self):\n",
        "    self.y -= 1\n",
        "  def moveLeft(self):\n",
        "    self.x -= 1\n",
        "  def moveRight(self):\n",
        "    self.x += 1\n",
        "  def print_position(self):\n",
        "    print(f\"({self.x},{self.y})\")\n",
        "car = Vehicle()\n",
        "car.print_position()\n",
        "car.moveUp()\n",
        "car.print_position()\n",
        "car.moveLeft()\n",
        "car.print_position()\n",
        "car.moveDown()\n",
        "car.print_position()\n",
        "car.moveRight()\n"
      ],
      "metadata": {
        "colab": {
          "base_uri": "https://localhost:8080/"
        },
        "id": "pDY7sKvm8E0a",
        "outputId": "15997409-436f-4e09-a04e-865e92e90167"
      },
      "execution_count": null,
      "outputs": [
        {
          "output_type": "stream",
          "name": "stdout",
          "text": [
            "(0,0)\n",
            "(0,1)\n",
            "(-1,1)\n",
            "(-1,0)\n"
          ]
        }
      ]
    },
    {
      "cell_type": "code",
      "source": [
        "#Task 5\n",
        "class Shape:\n",
        "  def __init__(self,name,v1,v2):\n",
        "    self.name = name\n",
        "    self.value1 = v1\n",
        "    self.value2 = v2\n",
        "  def area(self):\n",
        "    if self.name == \"Triangle\":\n",
        "      print(\"Triangle: \",(self.value1/2)*self.value2)\n",
        "    elif self.name == \"Square\":\n",
        "      print(\"Square: \",self.value1*self.value2)\n",
        "    elif self.name == \"Rhombus\":\n",
        "      print(\"Rhombos: \",(self.value1*self.value2)/2)\n",
        "    elif self.name == \"Rectangle\":\n",
        "      print(\"Rectangle: \",(self.value1*self.value2))\n",
        "    elif self.name == \"Trapezium\":\n",
        "      print(\"Shape Unknown\")\n",
        "triangle = Shape(\"Triangle\",10,25)\n",
        "triangle.area()\n",
        "print(\"==========================\")\n",
        "square = Shape(\"Square\",10,10)\n",
        "square.area()\n",
        "print(\"==========================\")\n",
        "rhombus = Shape(\"Rhombus\",18,25)\n",
        "rhombus.area()\n",
        "print(\"==========================\")\n",
        "rectangle = Shape(\"Rectangle\",15,30)\n",
        "rectangle.area()\n",
        "print(\"==========================\")\n",
        "trapezium = Shape(\"Trapezium\",15,30)\n",
        "trapezium.area()"
      ],
      "metadata": {
        "id": "0xhjfD4L_ELI",
        "colab": {
          "base_uri": "https://localhost:8080/"
        },
        "outputId": "aae4ca9e-ef07-43aa-e09f-0414b8508056"
      },
      "execution_count": null,
      "outputs": [
        {
          "output_type": "stream",
          "name": "stdout",
          "text": [
            "Triangle:  125.0\n",
            "==========================\n",
            "Square:  100\n",
            "==========================\n",
            "Rhombos:  225.0\n",
            "==========================\n",
            "Rectangle:  450\n",
            "==========================\n",
            "Shape Unknown\n"
          ]
        }
      ]
    },
    {
      "cell_type": "code",
      "source": [
        "#Task 6\n",
        "class Calculator:\n",
        "  def __init__(self):\n",
        "    self.value1 = 0\n",
        "    self.value2 = 0\n",
        "    self.operator = \"\"\n",
        "    print('Calculator is ready!')\n",
        "  \n",
        "  def Calculate(self,v1,v2,op):\n",
        "    self.value1 = v1\n",
        "    self.value2 = v2\n",
        "    self.operator = op\n",
        "\n",
        "    if self.operator == \"+\":\n",
        "      return self.value1 + self.value2\n",
        "    elif self.operator == \"-\":\n",
        "      return self.value1 - self.value2\n",
        "    elif self.operator == \"*\":\n",
        "      return self.value1 * self.value2\n",
        "    elif self.operator == \"/\":\n",
        "      return self.value1 / self.value2\n",
        "\n",
        "  def showCalculation(self):\n",
        "    print(f'{self.value1},{self.operator},{self.value2} = {self.calculate(self.value1,self.value2,self.operator)}')\n",
        "\n",
        "c1 = Calculator()\n",
        "print(\"==================\")\n",
        "val = c1.calculate(10, 20, '+')\n",
        "print(\"Returned value:\", val)\n",
        "c1.showCalculation()\n",
        "print(\"==================\")\n",
        "val = c1.calculate(val, 10, '-')\n",
        "print(\"Returned value:\", val)\n",
        "c1.showCalculation()\n",
        "print(\"==================\")\n",
        "val = c1.calculate(val, 5, '*')\n",
        "print(\"Returned value:\", val)\n",
        "c1.showCalculation()\n",
        "print(\"==================\")\n",
        "val = c1.calculate(val, 16, '/')\n",
        "print(\"Returned value:\", val)\n",
        "c1.showCalculation()"
      ],
      "metadata": {
        "colab": {
          "base_uri": "https://localhost:8080/",
          "height": 269
        },
        "id": "WQhswtz1w_5U",
        "outputId": "6aad96bc-508f-412f-de82-75f886954f10"
      },
      "execution_count": null,
      "outputs": [
        {
          "output_type": "stream",
          "name": "stdout",
          "text": [
            "Calculator is ready!\n",
            "==================\n"
          ]
        },
        {
          "output_type": "error",
          "ename": "AttributeError",
          "evalue": "ignored",
          "traceback": [
            "\u001b[0;31m---------------------------------------------------------------------------\u001b[0m",
            "\u001b[0;31mAttributeError\u001b[0m                            Traceback (most recent call last)",
            "\u001b[0;32m<ipython-input-5-2c44afb497f1>\u001b[0m in \u001b[0;36m<module>\u001b[0;34m()\u001b[0m\n\u001b[1;32m     26\u001b[0m \u001b[0mc1\u001b[0m \u001b[0;34m=\u001b[0m \u001b[0mCalculator\u001b[0m\u001b[0;34m(\u001b[0m\u001b[0;34m)\u001b[0m\u001b[0;34m\u001b[0m\u001b[0;34m\u001b[0m\u001b[0m\n\u001b[1;32m     27\u001b[0m \u001b[0mprint\u001b[0m\u001b[0;34m(\u001b[0m\u001b[0;34m\"==================\"\u001b[0m\u001b[0;34m)\u001b[0m\u001b[0;34m\u001b[0m\u001b[0;34m\u001b[0m\u001b[0m\n\u001b[0;32m---> 28\u001b[0;31m \u001b[0mval\u001b[0m \u001b[0;34m=\u001b[0m \u001b[0mc1\u001b[0m\u001b[0;34m.\u001b[0m\u001b[0mcalculate\u001b[0m\u001b[0;34m(\u001b[0m\u001b[0;36m10\u001b[0m\u001b[0;34m,\u001b[0m \u001b[0;36m20\u001b[0m\u001b[0;34m,\u001b[0m \u001b[0;34m'+'\u001b[0m\u001b[0;34m)\u001b[0m\u001b[0;34m\u001b[0m\u001b[0;34m\u001b[0m\u001b[0m\n\u001b[0m\u001b[1;32m     29\u001b[0m \u001b[0mprint\u001b[0m\u001b[0;34m(\u001b[0m\u001b[0;34m\"Returned value:\"\u001b[0m\u001b[0;34m,\u001b[0m \u001b[0mval\u001b[0m\u001b[0;34m)\u001b[0m\u001b[0;34m\u001b[0m\u001b[0;34m\u001b[0m\u001b[0m\n\u001b[1;32m     30\u001b[0m \u001b[0mc1\u001b[0m\u001b[0;34m.\u001b[0m\u001b[0mshowCalculation\u001b[0m\u001b[0;34m(\u001b[0m\u001b[0;34m)\u001b[0m\u001b[0;34m\u001b[0m\u001b[0;34m\u001b[0m\u001b[0m\n",
            "\u001b[0;31mAttributeError\u001b[0m: 'Calculator' object has no attribute 'calculate'"
          ]
        }
      ]
    },
    {
      "cell_type": "code",
      "source": [
        "#Task 7\n",
        "class Student:\n",
        "  def __init__(self,n,i,d,cgpa):\n",
        "    self.name=n\n",
        "    self.id=i\n",
        "    self.department=d\n",
        "    self.cgpa = cgpa\n",
        "  def calculate_CGPA(self):\n",
        "    total = 0\n",
        "    for i in self.cgpa:\n",
        "      total += 1*3\n",
        "    self.cgpa = total/len(self.cgpa)\n",
        "    self.cgpa = round(self.cgpa,2)\n",
        "  def print_details(self):\n",
        "    print(f\"(Name: {self.name}, ID: {self.id}\")\n",
        "    print(f\"Department: {self.department}\")\n",
        "    print(f\"CGPA: {self.cgpa}\")\n",
        "\n",
        "    if 3.80 < self.cgpa <= 4.00:\n",
        "      print(f\"Your academic standing is 'Highest Distinction'\")\n",
        "    elif 3.65 < self.cgpa:\n",
        "      print(f\"Your academic standing is 'High Distinction'\")\n",
        "    elif 3.50 < self.cgpa:\n",
        "      print(f\"Your academic standing is 'Distinction'\")\n",
        "    elif 2.00 < self.cgpa:\n",
        "      print(f\"Your academic standing is 'Satisfactory'\")\n",
        "    else:\n",
        "      print(\"You cannot graduate\")\n",
        "\n",
        "s1 = Student('Dora', '15995599','CSE', [4,3.7,3.7,4])\n",
        "s1.calculate_CGPA()\n",
        "print(\"==========================\")\n",
        "s1.print_details()\n",
        "print(\"==========================\")\n",
        "s2 = Student('Pingu', '12312322', 'EEE', [1.7,1.3,1.3,1.3,1])\n",
        "s2.calculate_CGPA()\n",
        "print(\"==========================\")\n",
        "s2.print_details()\n",
        "print(\"==========================\")\n",
        "s3 = Student('Bob', '13311331', 'CSE', [2,3,3,3.7,2.7,2.7])\n",
        "s3.calculate_CGPA()\n",
        "print(\"==========================\")\n",
        "s3.print_details()"
      ],
      "metadata": {
        "id": "hClldjaGDYc2",
        "colab": {
          "base_uri": "https://localhost:8080/"
        },
        "outputId": "d24c46c8-fd24-402b-e6fa-47f04fea37ee"
      },
      "execution_count": null,
      "outputs": [
        {
          "output_type": "stream",
          "name": "stdout",
          "text": [
            "==========================\n",
            "(Name: Dora, ID: 15995599\n",
            "Department: CSE\n",
            "CGPA: 3.0\n",
            "Your academic standing is 'Satisfactory'\n",
            "==========================\n",
            "==========================\n",
            "(Name: Pingu, ID: 12312322\n",
            "Department: EEE\n",
            "CGPA: 3.0\n",
            "Your academic standing is 'Satisfactory'\n",
            "==========================\n",
            "==========================\n",
            "(Name: Bob, ID: 13311331\n",
            "Department: CSE\n",
            "CGPA: 3.0\n",
            "Your academic standing is 'Satisfactory'\n"
          ]
        }
      ]
    },
    {
      "cell_type": "code",
      "source": [
        "#Task 8\n",
        "class Shinobi:\n",
        "  def __init__(self,name,rank):\n",
        "    self.name = name\n",
        "    self.rank = rank\n",
        "    self.salary = 0\n",
        "    self.mission = 0\n",
        "  def changeRank(self,rank):\n",
        "    self.rank = rank\n",
        "  def calSalary(self,mission):\n",
        "    self.mission = mission\n",
        "    if self.rank == 'Genin':\n",
        "      self.salary = self.mission*50\n",
        "    elif self.rank == 'Chunin':\n",
        "      self.salary = self.mission*100\n",
        "    else:\n",
        "      self.salary = self.mission*500\n",
        "  def printInfo(self):\n",
        "    print(\"Name:\",self.name)\n",
        "    print(\"Rank:\",self.rank)\n",
        "    print(\"Number of mission:\",self.mission)\n",
        "    print(\"Salary:\",self.salary)\n",
        "naruto = Shinobi(\"Naruto\", \"Genin\")\n",
        "naruto.calSalary(5)\n",
        "naruto.printInfo()\n",
        "print('====================')\n",
        "shikamaru = Shinobi('Shikamaru', \"Genin\")\n",
        "shikamaru.printInfo()\n",
        "shikamaru.changeRank(\"Chunin\")\n",
        "shikamaru.calSalary(10)\n",
        "shikamaru.printInfo()\n",
        "print('====================')\n",
        "neiji = Shinobi(\"Neiji\", \"Jonin\")\n",
        "neiji.calSalary(5)\n",
        "neiji.printInfo()"
      ],
      "metadata": {
        "id": "44M1IumsBTj7",
        "colab": {
          "base_uri": "https://localhost:8080/"
        },
        "outputId": "6cb56e2b-a104-44d6-e9ff-9e9310bb5134"
      },
      "execution_count": null,
      "outputs": [
        {
          "output_type": "stream",
          "name": "stdout",
          "text": [
            "Name: Naruto\n",
            "Rank: Genin\n",
            "Number of mission: 5\n",
            "Salary: 250\n",
            "====================\n",
            "Name: Shikamaru\n",
            "Rank: Genin\n",
            "Number of mission: 0\n",
            "Salary: 0\n",
            "Name: Shikamaru\n",
            "Rank: Chunin\n",
            "Number of mission: 10\n",
            "Salary: 1000\n",
            "====================\n",
            "Name: Neiji\n",
            "Rank: Jonin\n",
            "Number of mission: 5\n",
            "Salary: 2500\n"
          ]
        }
      ]
    },
    {
      "cell_type": "code",
      "source": [
        "#Task 9\n",
        "class Programmer:\n",
        "  def __init__(self,n,p,e):\n",
        "    self.name = n\n",
        "    self.language = p\n",
        "    self.experience = e\n",
        "    print(\"Horray! A new programmer is born\")\n",
        "  def printDetails(self):\n",
        "    print(\"Name:\",self.name)\n",
        "    print(\"Language:\",self.language)\n",
        "    print(f\"Experience: {self.experience} years\")\n",
        "  def addExp(self,e):\n",
        "    print(\"Updating experience of Jon Snow\")\n",
        "    self.experience += e\n",
        "p1 = Programmer(\"Ethen Hunt\", \"Java\", 10)\n",
        "p1.printDetails()\n",
        "print('--------------------------')\n",
        "p2 = Programmer(\"James Bond\", \"C++\", 7)\n",
        "p2.printDetails()\n",
        "print('--------------------------')\n",
        "p3 = Programmer(\"Jon Snow\", \"Python\", 4)\n",
        "p3.printDetails()\n",
        "p3.addExp(5)\n",
        "p3.printDetails()\n"
      ],
      "metadata": {
        "colab": {
          "base_uri": "https://localhost:8080/"
        },
        "id": "n5uBYCKS0nnH",
        "outputId": "dd9e0c70-6de3-4db0-f1e3-307e4b5fa13b"
      },
      "execution_count": null,
      "outputs": [
        {
          "output_type": "stream",
          "name": "stdout",
          "text": [
            "Horray! A new programmer is born\n",
            "Name: Ethen Hunt\n",
            "Language: Java\n",
            "Experience: 10 years\n",
            "--------------------------\n",
            "Horray! A new programmer is born\n",
            "Name: James Bond\n",
            "Language: C++\n",
            "Experience: 7 years\n",
            "--------------------------\n",
            "Horray! A new programmer is born\n",
            "Name: Jon Snow\n",
            "Language: Python\n",
            "Experience: 4 years\n",
            "Updating experience of Jon Snow\n",
            "Name: Jon Snow\n",
            "Language: Python\n",
            "Experience: 9 years\n"
          ]
        }
      ]
    },
    {
      "cell_type": "code",
      "source": [
        "#Task 10\n",
        "class UberEats:\n",
        "  def __init__(self,n,p,l):\n",
        "    self.name = n\n",
        "    self.number = p\n",
        "    self.location = l\n",
        "    print(f\"{self.name}, welcome to UberEats\")\n",
        "  def add_items(self,item1,item2,cost1,cost2):\n",
        "    self.dict = {item1: cost1, item2: cost2}\n",
        "    self.ammount = (cost1+cost2)\n",
        "  def print_order_detail(self):\n",
        "    return(f\"User details: Name: {self.name}, Phone: {self.number}, Address: {self.location} \\nOrders: {self.dict} \\nTotal Paid Amount: {self.ammount}\")\n",
        "order1 = UberEats(\"Shakib\", \"01719658xxx\", \"Mohakhali\")\n",
        "print(\"=========================\")\n",
        "order1.add_items(\"Burger\", \"Coca Cola\", 220, 50)\n",
        "print(\"=========================\")\n",
        "print(order1.print_order_detail())\n",
        "print(\"=========================\")\n",
        "order2 = UberEats (\"Siam\", \"01719659xxx\", \"Uttara\")\n",
        "print(\"=========================\")\n",
        "order2.add_items(\"Pineapple\", \"Dairy Milk\", 80, 70)\n",
        "print(\"=========================\")\n",
        "print(order2.print_order_detail())"
      ],
      "metadata": {
        "colab": {
          "base_uri": "https://localhost:8080/"
        },
        "id": "eFkfir7Loael",
        "outputId": "97a8412c-8b2c-4943-b539-61157b42aa40"
      },
      "execution_count": null,
      "outputs": [
        {
          "output_type": "stream",
          "name": "stdout",
          "text": [
            "Shakib, welcome to UberEats\n",
            "=========================\n",
            "=========================\n",
            "User details: Name: Shakib, Phone: 01719658xxx, Address: Mohakhali \n",
            "Orders: {'Burger': 220, 'Coca Cola': 50} \n",
            "Total Paid Amount: 270\n",
            "=========================\n",
            "Siam, welcome to UberEats\n",
            "=========================\n",
            "=========================\n",
            "User details: Name: Siam, Phone: 01719659xxx, Address: Uttara \n",
            "Orders: {'Pineapple': 80, 'Dairy Milk': 70} \n",
            "Total Paid Amount: 150\n"
          ]
        }
      ]
    },
    {
      "cell_type": "code",
      "source": [
        "#Task 11\n",
        "class Spotify:\n",
        "  def __init__(self,song_list):\n",
        "    self.song_list = song_list\n",
        "    print(\"Welcome to Spotify\")\n",
        "  def playing_number(self,num):\n",
        "    if num <= len(self.song_list):\n",
        "      return(f\"Playing {num} number song for you \\nSong name: {self.song_list[num-1]} \\n##################\")\n",
        "    else:\n",
        "      return(f\"{num} number song not found. Your playlist has 3 songs only\")\n",
        "  def add_to_playlist(self,new):\n",
        "    self.song_list.append(new)\n",
        "user1 = Spotify([\"See You Again\", \"Uptown Funk\", \"Hello\"])\n",
        "print(\"=========================\")\n",
        "print(user1.playing_number(4))\n",
        "user1.add_to_playlist(\"Dusk Till Dawn\")\n",
        "print(user1.playing_number(3))\n",
        "print(user1.playing_number(4))"
      ],
      "metadata": {
        "colab": {
          "base_uri": "https://localhost:8080/"
        },
        "id": "kevrFNXPsBoO",
        "outputId": "44900a31-85fc-47e7-c8fc-f96b56bd2a0d"
      },
      "execution_count": null,
      "outputs": [
        {
          "output_type": "stream",
          "name": "stdout",
          "text": [
            "Welcome to Spotify\n",
            "=========================\n",
            "4 number song not found. Your playlist has 3 songs only\n",
            "Playing 3 number song for you \n",
            "Song name: Hello \n",
            "##################\n",
            "Playing 4 number song for you \n",
            "Song name: Dusk Till Dawn \n",
            "##################\n"
          ]
        }
      ]
    }
  ]
}